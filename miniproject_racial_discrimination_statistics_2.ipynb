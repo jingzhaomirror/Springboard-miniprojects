{
 "cells": [
  {
   "cell_type": "markdown",
   "metadata": {},
   "source": [
    "# Examining Racial Discrimination in the US Job Market\n",
    "\n",
    "### Background\n",
    "Racial discrimination continues to be pervasive in cultures throughout the world. Researchers examined the level of racial discrimination in the United States labor market by randomly assigning identical résumés to black-sounding or white-sounding names and observing the impact on requests for interviews from employers.\n",
    "\n",
    "### Data\n",
    "In the dataset provided, each row represents a resume. The 'race' column has two values, 'b' and 'w', indicating black-sounding and white-sounding. The column 'call' has two values, 1 and 0, indicating whether the resume received a call from employers or not.\n",
    "\n",
    "Note that the 'b' and 'w' values in race are assigned randomly to the resumes when presented to the employer."
   ]
  },
  {
   "cell_type": "markdown",
   "metadata": {},
   "source": [
    "### Exercises\n",
    "You will perform a statistical analysis to establish whether race has a significant impact on the rate of callbacks for resumes.\n",
    "\n",
    "Answer the following questions **in this notebook below and submit to your Github account**. \n",
    "\n",
    "   1. What test is appropriate for this problem? Does CLT apply?\n",
    "   2. What are the null and alternate hypotheses?\n",
    "   3. Compute margin of error, confidence interval, and p-value. Try using both the bootstrapping and the frequentist statistical approaches.\n",
    "   4. Write a story describing the statistical significance in the context or the original problem.\n",
    "   5. Does your analysis mean that race/name is the most important factor in callback success? Why or why not? If not, how would you amend your analysis?\n",
    "\n",
    "You can include written notes in notebook cells using Markdown: \n",
    "   - In the control panel at the top, choose Cell > Cell Type > Markdown\n",
    "   - Markdown syntax: http://nestacms.com/docs/creating-content/markdown-cheat-sheet\n",
    "\n",
    "\n",
    "#### Resources\n",
    "+ Experiment information and data source: http://www.povertyactionlab.org/evaluation/discrimination-job-market-united-states\n",
    "+ Scipy statistical methods: http://docs.scipy.org/doc/scipy/reference/stats.html \n",
    "+ Markdown syntax: http://nestacms.com/docs/creating-content/markdown-cheat-sheet\n",
    "+ Formulas for the Bernoulli distribution: https://en.wikipedia.org/wiki/Bernoulli_distribution"
   ]
  },
  {
   "cell_type": "code",
   "execution_count": 1,
   "metadata": {},
   "outputs": [],
   "source": [
    "import pandas as pd\n",
    "import numpy as np\n",
    "from scipy import stats"
   ]
  },
  {
   "cell_type": "code",
   "execution_count": 2,
   "metadata": {},
   "outputs": [],
   "source": [
    "data = pd.io.stata.read_stata('data/us_job_market_discrimination.dta')"
   ]
  },
  {
   "cell_type": "code",
   "execution_count": 3,
   "metadata": {},
   "outputs": [
    {
     "data": {
      "text/plain": [
       "235.0"
      ]
     },
     "execution_count": 3,
     "metadata": {},
     "output_type": "execute_result"
    }
   ],
   "source": [
    "# number of callbacks for black-sounding names\n",
    "sum(data[data.race=='w'].call)"
   ]
  },
  {
   "cell_type": "code",
   "execution_count": 4,
   "metadata": {},
   "outputs": [
    {
     "data": {
      "text/html": [
       "<div>\n",
       "<style scoped>\n",
       "    .dataframe tbody tr th:only-of-type {\n",
       "        vertical-align: middle;\n",
       "    }\n",
       "\n",
       "    .dataframe tbody tr th {\n",
       "        vertical-align: top;\n",
       "    }\n",
       "\n",
       "    .dataframe thead th {\n",
       "        text-align: right;\n",
       "    }\n",
       "</style>\n",
       "<table border=\"1\" class=\"dataframe\">\n",
       "  <thead>\n",
       "    <tr style=\"text-align: right;\">\n",
       "      <th></th>\n",
       "      <th>id</th>\n",
       "      <th>ad</th>\n",
       "      <th>education</th>\n",
       "      <th>ofjobs</th>\n",
       "      <th>yearsexp</th>\n",
       "      <th>honors</th>\n",
       "      <th>volunteer</th>\n",
       "      <th>military</th>\n",
       "      <th>empholes</th>\n",
       "      <th>occupspecific</th>\n",
       "      <th>...</th>\n",
       "      <th>compreq</th>\n",
       "      <th>orgreq</th>\n",
       "      <th>manuf</th>\n",
       "      <th>transcom</th>\n",
       "      <th>bankreal</th>\n",
       "      <th>trade</th>\n",
       "      <th>busservice</th>\n",
       "      <th>othservice</th>\n",
       "      <th>missind</th>\n",
       "      <th>ownership</th>\n",
       "    </tr>\n",
       "  </thead>\n",
       "  <tbody>\n",
       "    <tr>\n",
       "      <th>0</th>\n",
       "      <td>b</td>\n",
       "      <td>1</td>\n",
       "      <td>4</td>\n",
       "      <td>2</td>\n",
       "      <td>6</td>\n",
       "      <td>0</td>\n",
       "      <td>0</td>\n",
       "      <td>0</td>\n",
       "      <td>1</td>\n",
       "      <td>17</td>\n",
       "      <td>...</td>\n",
       "      <td>1.0</td>\n",
       "      <td>0.0</td>\n",
       "      <td>1.0</td>\n",
       "      <td>0.0</td>\n",
       "      <td>0.0</td>\n",
       "      <td>0.0</td>\n",
       "      <td>0.0</td>\n",
       "      <td>0.0</td>\n",
       "      <td>0.0</td>\n",
       "      <td></td>\n",
       "    </tr>\n",
       "    <tr>\n",
       "      <th>1</th>\n",
       "      <td>b</td>\n",
       "      <td>1</td>\n",
       "      <td>3</td>\n",
       "      <td>3</td>\n",
       "      <td>6</td>\n",
       "      <td>0</td>\n",
       "      <td>1</td>\n",
       "      <td>1</td>\n",
       "      <td>0</td>\n",
       "      <td>316</td>\n",
       "      <td>...</td>\n",
       "      <td>1.0</td>\n",
       "      <td>0.0</td>\n",
       "      <td>1.0</td>\n",
       "      <td>0.0</td>\n",
       "      <td>0.0</td>\n",
       "      <td>0.0</td>\n",
       "      <td>0.0</td>\n",
       "      <td>0.0</td>\n",
       "      <td>0.0</td>\n",
       "      <td></td>\n",
       "    </tr>\n",
       "    <tr>\n",
       "      <th>2</th>\n",
       "      <td>b</td>\n",
       "      <td>1</td>\n",
       "      <td>4</td>\n",
       "      <td>1</td>\n",
       "      <td>6</td>\n",
       "      <td>0</td>\n",
       "      <td>0</td>\n",
       "      <td>0</td>\n",
       "      <td>0</td>\n",
       "      <td>19</td>\n",
       "      <td>...</td>\n",
       "      <td>1.0</td>\n",
       "      <td>0.0</td>\n",
       "      <td>1.0</td>\n",
       "      <td>0.0</td>\n",
       "      <td>0.0</td>\n",
       "      <td>0.0</td>\n",
       "      <td>0.0</td>\n",
       "      <td>0.0</td>\n",
       "      <td>0.0</td>\n",
       "      <td></td>\n",
       "    </tr>\n",
       "    <tr>\n",
       "      <th>3</th>\n",
       "      <td>b</td>\n",
       "      <td>1</td>\n",
       "      <td>3</td>\n",
       "      <td>4</td>\n",
       "      <td>6</td>\n",
       "      <td>0</td>\n",
       "      <td>1</td>\n",
       "      <td>0</td>\n",
       "      <td>1</td>\n",
       "      <td>313</td>\n",
       "      <td>...</td>\n",
       "      <td>1.0</td>\n",
       "      <td>0.0</td>\n",
       "      <td>1.0</td>\n",
       "      <td>0.0</td>\n",
       "      <td>0.0</td>\n",
       "      <td>0.0</td>\n",
       "      <td>0.0</td>\n",
       "      <td>0.0</td>\n",
       "      <td>0.0</td>\n",
       "      <td></td>\n",
       "    </tr>\n",
       "    <tr>\n",
       "      <th>4</th>\n",
       "      <td>b</td>\n",
       "      <td>1</td>\n",
       "      <td>3</td>\n",
       "      <td>3</td>\n",
       "      <td>22</td>\n",
       "      <td>0</td>\n",
       "      <td>0</td>\n",
       "      <td>0</td>\n",
       "      <td>0</td>\n",
       "      <td>313</td>\n",
       "      <td>...</td>\n",
       "      <td>1.0</td>\n",
       "      <td>1.0</td>\n",
       "      <td>0.0</td>\n",
       "      <td>0.0</td>\n",
       "      <td>0.0</td>\n",
       "      <td>0.0</td>\n",
       "      <td>0.0</td>\n",
       "      <td>1.0</td>\n",
       "      <td>0.0</td>\n",
       "      <td>Nonprofit</td>\n",
       "    </tr>\n",
       "  </tbody>\n",
       "</table>\n",
       "<p>5 rows × 65 columns</p>\n",
       "</div>"
      ],
      "text/plain": [
       "  id ad  education  ofjobs  yearsexp  honors  volunteer  military  empholes  \\\n",
       "0  b  1          4       2         6       0          0         0         1   \n",
       "1  b  1          3       3         6       0          1         1         0   \n",
       "2  b  1          4       1         6       0          0         0         0   \n",
       "3  b  1          3       4         6       0          1         0         1   \n",
       "4  b  1          3       3        22       0          0         0         0   \n",
       "\n",
       "   occupspecific    ...      compreq  orgreq  manuf  transcom  bankreal trade  \\\n",
       "0             17    ...          1.0     0.0    1.0       0.0       0.0   0.0   \n",
       "1            316    ...          1.0     0.0    1.0       0.0       0.0   0.0   \n",
       "2             19    ...          1.0     0.0    1.0       0.0       0.0   0.0   \n",
       "3            313    ...          1.0     0.0    1.0       0.0       0.0   0.0   \n",
       "4            313    ...          1.0     1.0    0.0       0.0       0.0   0.0   \n",
       "\n",
       "  busservice othservice  missind  ownership  \n",
       "0        0.0        0.0      0.0             \n",
       "1        0.0        0.0      0.0             \n",
       "2        0.0        0.0      0.0             \n",
       "3        0.0        0.0      0.0             \n",
       "4        0.0        1.0      0.0  Nonprofit  \n",
       "\n",
       "[5 rows x 65 columns]"
      ]
     },
     "execution_count": 4,
     "metadata": {},
     "output_type": "execute_result"
    }
   ],
   "source": [
    "data.head()"
   ]
  },
  {
   "cell_type": "code",
   "execution_count": 5,
   "metadata": {},
   "outputs": [
    {
     "name": "stdout",
     "output_type": "stream",
     "text": [
      "2435\n",
      "157.0\n",
      "2278.0\n",
      "2435\n",
      "235.0\n",
      "2200.0\n"
     ]
    }
   ],
   "source": [
    "#extract the entries associated with black-sounding names\n",
    "w = data[data.race=='w']\n",
    "#etract the entries associated with white-sounding names\n",
    "b = data[data.race=='b']\n",
    "\n",
    "# number of resumes with black-sounding names\n",
    "print(len(b))\n",
    "# number of callbacks for black-sounding names\n",
    "print(sum(b.call))\n",
    "# number of no callbacks for black-sounding names\n",
    "print(len(b)-sum(b.call))\n",
    "\n",
    "# number of resumes with white-sounding names\n",
    "print(len(w))\n",
    "# number of callbacks for white-sounding names\n",
    "print(sum(w.call))\n",
    "# number of no callbacks for white-sounding names\n",
    "print(len(w)-sum(w.call))"
   ]
  },
  {
   "cell_type": "markdown",
   "metadata": {},
   "source": [
    "## Q1. What test is appropriate for this problem? Does CLT apply?\n",
    "<p>To understand whether the rate of callbacks depends on the race, we should compare the rate of callbacks in résumés with black sounding names *vs.* the rate of callbacks in résumés with white sounding names. Therefore, a **two sample test** is appropriate in this case.</p>\n",
    "\n",
    "<p>Check conditions for CLT:</p>\n",
    "<p>1) random:</p>\n",
    "<p>As mentioned in the background, the résumés are randomly assigned to black-sounding or white-sounding names for the experience. Therefore, this is a random sampling with no bias.</p>\n",
    "<p>2) normal:</p>\n",
    "<p>To ensure the sample distribution is approximately normal, the sample size should be large enough so that np >= 10 and n(1-p) >= 10. In this case, as shown above for both black-sounding and white-sounding names, the conditions of np >=10 and n(1-p) >= 10 are met.</p>\n",
    "<p>3) Indepedent: </p>\n",
    "<p>The researchers in this study used a randomized field experiment to evaluate the level of racial discrimination in the labor market, and nearly 5,000 resumes were collected in response to over 1,300 newspaper ads for sales, administrative, and clerical jobs in Boston and Chicago. Therefore, the population in this case is all the people looking for sales, administrative and clerical jobs in Boston and Chicago, which should be larger than 10 times 5000. Thus, the sample size is less than 10% of the population, and the observations in the sample are independent.</p>\n",
    "\n",
    "<p>As discussed, the three conditions of CLT are met. Therefore, **CLT applies in this case.**</p>"
   ]
  },
  {
   "cell_type": "markdown",
   "metadata": {},
   "source": [
    "## Q2. What are the null and alternate hypotheses?\n",
    "<p>Null hypothesis: race doesn't have a significant impact on the rate of callbacks for resumes.</p>\n",
    "<p>Alternative hypothesis: race has a significant impact on the rate of callbacks for resumes.</p>"
   ]
  },
  {
   "cell_type": "markdown",
   "metadata": {},
   "source": [
    "## Q3. Compute margin of error, confidence interval, and p-value. Try using both the bootstrapping and the frequentist statistical approaches."
   ]
  },
  {
   "cell_type": "markdown",
   "metadata": {},
   "source": [
    "### 1) Bootstrap approach\n",
    "<p>Test statistics: sample proportion (ratio)</p>\n",
    "<p>Method: two sample test with permutation</p>\n",
    "<p>Significance level: $\\alpha$=0.05</p>"
   ]
  },
  {
   "cell_type": "code",
   "execution_count": 6,
   "metadata": {},
   "outputs": [
    {
     "name": "stdout",
     "output_type": "stream",
     "text": [
      "Margin-of-error is:  0.015245716635875482\n",
      "95% confidence interval is: [-0.01519507  0.01519507]\n",
      "p-value is:  0.0004\n"
     ]
    }
   ],
   "source": [
    "#compute the ratio of callbacks in black-sounding names\n",
    "r_b = sum(b.call)/len(b)\n",
    "#compute the ratio of callbacks in white-sounding names\n",
    "r_w = sum(w.call)/len(w)\n",
    "#compute the difference in their ratios\n",
    "r_diff = r_b - r_w\n",
    "\n",
    "#concatenate the 'call' columns from the two race groups together assuming the null hypothesis is true and there's no difference on their callbacks rates\n",
    "r = np.concatenate((b.call, w.call))\n",
    "#initialize an empty array for storing all bootstrap replicates\n",
    "bs_reps = np.empty(10000)\n",
    "\n",
    "#use for loop to compute a desired number of bootstrap replicates\n",
    "for i in range(10000):\n",
    "    #generate bootstrap sample from the concatenated array\n",
    "    bs = np.random.choice(r, size=len(r))\n",
    "    #assign the first half to the male group and the second half to the female group\n",
    "    bs_b = bs[:len(b)]\n",
    "    bs_w = bs[len(b):]\n",
    "    #compute the difference in bootstrap sample proportions\n",
    "    bs_reps[i] = sum(bs_b)/len(bs_b) - sum(bs_w)/len(bs_w)\n",
    "\n",
    "#compute margin of error based on 95% confidence interval (z=1.96)\n",
    "moe = 1.96*np.std(bs_reps)\n",
    "print(\"Margin-of-error is: \", moe)\n",
    "\n",
    "#compute 95% confidence interval\n",
    "con_int = np.percentile(bs_reps, [2.5, 97.5])\n",
    "print(\"95% confidence interval is:\", con_int)\n",
    "\n",
    "#compute the p-value based on the number of replicates which are more extreme than what is observed in the sample\n",
    "p = np.sum(bs_reps <= r_diff)/len(bs_reps)\n",
    "#multiply p by 2 for two-tailed test\n",
    "p = 2*p\n",
    "print(\"p-value is: \", p)"
   ]
  },
  {
   "cell_type": "markdown",
   "metadata": {},
   "source": [
    "Given that p< $\\alpha$ and p-value is a very small number, the null hypothesis is rejected. Therefore, race has a significant impact on the rate of callbacks for resumes."
   ]
  },
  {
   "cell_type": "markdown",
   "metadata": {},
   "source": [
    "### 2) Frequentist statistcal approach\n",
    "<p>Null hypothesis: race doesn't have a significant impact on the rate of callbacks for resumes. i.e. r(black) - r(white) = 0</p>\n",
    "<p>Test statistics: sample proportion (ratio)</p>\n",
    "<p>Method: two sample test</p>\n",
    "<p>Significance level: $\\alpha$=0.05</p>"
   ]
  },
  {
   "cell_type": "code",
   "execution_count": 7,
   "metadata": {},
   "outputs": [
    {
     "name": "stdout",
     "output_type": "stream",
     "text": [
      "Margin-of-error is:  0.015255406349886438\n",
      "95% confidence interval is:  [-0.01525541  0.01525541]\n",
      "z score is:  -4.11555043573\n"
     ]
    }
   ],
   "source": [
    "#compute the proportion receiving callbacks in black-sounding names\n",
    "r_b = sum(b.call)/len(b)\n",
    "#compute the proportion receiving callbacks in white-sounding names\n",
    "r_w = sum(w.call)/len(w)\n",
    "#compute the difference in their proportions\n",
    "r_diff = r_b - r_w\n",
    "\n",
    "#according to the null hypothesis, the hypothesized difference in proportions is zero\n",
    "r_diff_hypo = 0\n",
    "\n",
    "#compute the variance of sampling distribution of sample proportion for black-sounding names, here sample proportion is used as an estimate of the population proportion\n",
    "var_b = r_b*(1-r_b)/len(b)\n",
    "#compute the variance of sampling distribution of sample proportion for white-sounding names, here sample proportion is used as an estimate of the\n",
    "var_w = r_w*(1-r_w)/len(w)\n",
    "#compute the standard deviation of sampling distribution of the difference in sample proportions\n",
    "std_r_diff = np.sqrt(var_b + var_w)\n",
    "\n",
    "#compute margin-of-error based on 95% confidence interval (z=1.96)\n",
    "moe = 1.96*std_r_diff\n",
    "print(\"Margin-of-error is: \", moe)\n",
    "\n",
    "#compute 95% confidence interval, the corresponding z value is 1.96\n",
    "con_int = r_diff_hypo + np.array([-1,1])*moe\n",
    "print(\"95% confidence interval is: \", con_int)\n",
    "\n",
    "#compute z statistic and look up the p-value from a $z$ table\n",
    "z = (r_diff - r_diff_hypo)/std_r_diff\n",
    "print(\"z score is: \", z)"
   ]
  },
  {
   "cell_type": "markdown",
   "metadata": {},
   "source": [
    "<p>Use a $z$ table to look up the p value for two-tailed test:</p> \n",
    "<p>p($z$<= -4.116) < 0.0001</p>"
   ]
  },
  {
   "cell_type": "code",
   "execution_count": 8,
   "metadata": {},
   "outputs": [
    {
     "name": "stdout",
     "output_type": "stream",
     "text": [
      "p-value is  3.862565207522622e-05\n"
     ]
    }
   ],
   "source": [
    "#use scipy.stats module to compute the p-value\n",
    "p = stats.norm.cdf(r_diff, r_diff_hypo, std_r_diff)\n",
    "#multiply p by 2 for two-tailed test\n",
    "p = 2*p\n",
    "print(\"p-value is \", p)"
   ]
  },
  {
   "cell_type": "markdown",
   "metadata": {},
   "source": [
    "<p>The p-value calculated using scipy.stats module is in agreement with the p-value found using a $z$ table.</p>\n",
    "Given that p< $\\alpha$ and p-value is a very small number, the null hypothesis is rejected. Therefore, race has a significant impact on the rate of callbacks for resumes."
   ]
  },
  {
   "cell_type": "code",
   "execution_count": 9,
   "metadata": {},
   "outputs": [
    {
     "name": "stdout",
     "output_type": "stream",
     "text": [
      "0.06447638603696099 0.09650924024640657 -0.032032854209445585\n"
     ]
    }
   ],
   "source": [
    "print(r_b, r_w, r_diff)"
   ]
  },
  {
   "cell_type": "markdown",
   "metadata": {
    "collapsed": true
   },
   "source": [
    "## Q4. Write a story describing the statistical significance in the context or the original problem.\n",
    "\n",
    "<p>Racial discrimination continues to be pervasive in cultures throughout the world. Researchers examined the level of racial discrimination in the United States labor market by randomly assigning identical résumés black-sounding or white-sounding names and observing the impact on requests for interviews from employers.</p>\n",
    "<p>The results of this study shows that 9.65% of the resumes with white-sounding names received callbacks, whereas only 6.45% of the resumes with black-sounding names received callbacks. The difference in their callback rates, 3.20%, are statistically significant, with a z score of -4.116 and a p-value close to 0. This suggests that, all other things being equal, race still has a statistically significant impact on the rate of callbacks the candidates receive.</p>"
   ]
  },
  {
   "cell_type": "markdown",
   "metadata": {},
   "source": [
    "## Q5. Does your analysis mean that race/name is the most important factor in callback success? Why or why not? If not, how would you amend your analysis?\n",
    "\n",
    "<p>The above analysis shows that race/name is indeed an important factor in callback success, but it may or may not be **the most important** factor.</p> \n",
    "<p>Résumé quality also varies by summer employment experience, school-year employment, volunteering experience, extra computer skills, special honors and military experience, etc.</p>\n",
    "<p>To understand if race/name is the most important factor, the correlation between callback rate and all these potential factors should be evaluted as well, using the information available from the dataset. Then, a ranking of their relative importance can be concluded to determine if race/name is the most important factor among all.</p>"
   ]
  },
  {
   "cell_type": "code",
   "execution_count": null,
   "metadata": {},
   "outputs": [],
   "source": []
  }
 ],
 "metadata": {
  "kernelspec": {
   "display_name": "Python 3",
   "language": "python",
   "name": "python3"
  },
  "language_info": {
   "codemirror_mode": {
    "name": "ipython",
    "version": 3
   },
   "file_extension": ".py",
   "mimetype": "text/x-python",
   "name": "python",
   "nbconvert_exporter": "python",
   "pygments_lexer": "ipython3",
   "version": "3.6.5"
  }
 },
 "nbformat": 4,
 "nbformat_minor": 1
}
