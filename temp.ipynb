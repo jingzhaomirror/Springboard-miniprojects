{
 "cells": [
  {
   "cell_type": "code",
   "execution_count": 1,
   "metadata": {},
   "outputs": [
    {
     "name": "stdout",
     "output_type": "stream",
     "text": [
      "df before update: [{'code': '8', 'name': 'Human development'}, {'code': '11', 'name': ''}]\n",
      "df after update: [{'code': '8', 'name': 'Human development'}, {'code': '11', 'name': 'only updating df_copy!!!'}]\n",
      "df_copy after update: [{'code': '8', 'name': 'Human development'}, {'code': '11', 'name': 'only updating df_copy!!!'}]\n"
     ]
    }
   ],
   "source": [
    "import pandas as pd\n",
    "df=pd.read_json('data/world_bank_projects.json')\n",
    "\n",
    "#create a copy of df\n",
    "df_copy=df.copy(deep=True)\n",
    "\n",
    "#print the first entry in 'mjtheme_namecode' column to verify there is a missing theme name in the original df\n",
    "print('df before update:', df.mjtheme_namecode.head(1)[0])\n",
    "\n",
    "#update the missing theme name only for df_copy\n",
    "for entry in df_copy.mjtheme_namecode:\n",
    "    for theme in entry:\n",
    "        if theme['name'] == '':\n",
    "            theme['name'] = 'only updating df_copy!!!'\n",
    "\n",
    "#print the first entry in original df and the modified df.copy to verify the changes\n",
    "print('df after update:', df.mjtheme_namecode.head(1)[0])\n",
    "print('df_copy after update:', df_copy.mjtheme_namecode.head(1)[0])"
   ]
  },
  {
   "cell_type": "code",
   "execution_count": null,
   "metadata": {},
   "outputs": [],
   "source": []
  },
  {
   "cell_type": "code",
   "execution_count": null,
   "metadata": {},
   "outputs": [],
   "source": []
  }
 ],
 "metadata": {
  "kernelspec": {
   "display_name": "Python 3",
   "language": "python",
   "name": "python3"
  },
  "language_info": {
   "codemirror_mode": {
    "name": "ipython",
    "version": 3
   },
   "file_extension": ".py",
   "mimetype": "text/x-python",
   "name": "python",
   "nbconvert_exporter": "python",
   "pygments_lexer": "ipython3",
   "version": "3.6.5"
  }
 },
 "nbformat": 4,
 "nbformat_minor": 2
}
